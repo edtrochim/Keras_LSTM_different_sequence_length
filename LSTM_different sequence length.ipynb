{
  "nbformat": 4,
  "nbformat_minor": 0,
  "metadata": {
    "colab": {
      "name": "DTR_LSTM_DHSD_03.ipynb",
      "version": "0.3.2",
      "provenance": [],
      "collapsed_sections": []
    },
    "kernelspec": {
      "name": "python3",
      "display_name": "Python 3"
    },
    "accelerator": "GPU"
  },
  "cells": [
    {
      "cell_type": "code",
      "metadata": {
        "id": "zB_eLAiWKiCy",
        "colab_type": "code",
        "colab": {}
      },
      "source": [
        "# !kill -9 -1"
      ],
      "execution_count": 0,
      "outputs": []
    },
    {
      "cell_type": "code",
      "metadata": {
        "id": "u6c1W6SH-XVU",
        "colab_type": "code",
        "outputId": "eafa4ed0-3565-40a9-b3a2-df455c577053",
        "colab": {
          "base_uri": "https://localhost:8080/",
          "height": 288
        }
      },
      "source": [
        "# !cat /proc/cpuinfo\n",
        "!nvidia-smi\n"
      ],
      "execution_count": 81,
      "outputs": [
        {
          "output_type": "stream",
          "text": [
            "Sat Jun 29 13:58:48 2019       \n",
            "+-----------------------------------------------------------------------------+\n",
            "| NVIDIA-SMI 418.67       Driver Version: 410.79       CUDA Version: 10.0     |\n",
            "|-------------------------------+----------------------+----------------------+\n",
            "| GPU  Name        Persistence-M| Bus-Id        Disp.A | Volatile Uncorr. ECC |\n",
            "| Fan  Temp  Perf  Pwr:Usage/Cap|         Memory-Usage | GPU-Util  Compute M. |\n",
            "|===============================+======================+======================|\n",
            "|   0  Tesla T4            Off  | 00000000:00:04.0 Off |                    0 |\n",
            "| N/A   68C    P0    31W /  70W |    419MiB / 15079MiB |      0%      Default |\n",
            "+-------------------------------+----------------------+----------------------+\n",
            "                                                                               \n",
            "+-----------------------------------------------------------------------------+\n",
            "| Processes:                                                       GPU Memory |\n",
            "|  GPU       PID   Type   Process name                             Usage      |\n",
            "|=============================================================================|\n",
            "+-----------------------------------------------------------------------------+\n"
          ],
          "name": "stdout"
        }
      ]
    },
    {
      "cell_type": "code",
      "metadata": {
        "id": "YqFupAfr9tNG",
        "colab_type": "code",
        "colab": {}
      },
      "source": [
        "import pandas as pd\n",
        "import numpy as np\n",
        "import keras\n",
        "from pandas.core.frame import DataFrame\n",
        "from keras.models import Sequential\n",
        "from keras.layers import Dense, Dropout, Activation, Flatten, LSTM, TimeDistributed, RepeatVector\n",
        "from keras.layers.normalization import BatchNormalization\n",
        "from keras.optimizers import Adam\n",
        "from keras.callbacks import EarlyStopping, ModelCheckpoint\n",
        "import matplotlib.pyplot as plt\n",
        "import csv\n",
        "import datetime\n",
        "from sklearn.model_selection import train_test_split\n",
        "%matplotlib inline"
      ],
      "execution_count": 0,
      "outputs": []
    },
    {
      "cell_type": "markdown",
      "metadata": {
        "id": "vqRFr-1QNkl1",
        "colab_type": "text"
      },
      "source": [
        "## upload data\n",
        "\n",
        "#### please upload all.csv"
      ]
    },
    {
      "cell_type": "code",
      "metadata": {
        "id": "UtiBChZF9zOO",
        "colab_type": "code",
        "colab": {
          "resources": {
            "http://localhost:8080/nbextensions/google.colab/files.js": {
              "data": "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",
              "ok": true,
              "headers": [
                [
                  "content-type",
                  "application/javascript"
                ]
              ],
              "status": 200,
              "status_text": ""
            }
          },
          "base_uri": "https://localhost:8080/",
          "height": 78
        },
        "outputId": "7f89568d-8a70-4e2b-d84f-bf766fd2e5eb"
      },
      "source": [
        "from google.colab import files\n",
        "uploaded = files.upload()"
      ],
      "execution_count": 30,
      "outputs": [
        {
          "output_type": "display_data",
          "data": {
            "text/html": [
              "\n",
              "     <input type=\"file\" id=\"files-180671e7-3b4b-42e3-9e4a-f8e89f62aaf7\" name=\"files[]\" multiple disabled />\n",
              "     <output id=\"result-180671e7-3b4b-42e3-9e4a-f8e89f62aaf7\">\n",
              "      Upload widget is only available when the cell has been executed in the\n",
              "      current browser session. Please rerun this cell to enable.\n",
              "      </output>\n",
              "      <script src=\"/nbextensions/google.colab/files.js\"></script> "
            ],
            "text/plain": [
              "<IPython.core.display.HTML object>"
            ]
          },
          "metadata": {
            "tags": []
          }
        },
        {
          "output_type": "stream",
          "text": [
            "Saving all.csv to all.csv\n"
          ],
          "name": "stdout"
        }
      ]
    },
    {
      "cell_type": "markdown",
      "metadata": {
        "id": "KNRr-zo6Wgkh",
        "colab_type": "text"
      },
      "source": [
        "## read csv"
      ]
    },
    {
      "cell_type": "code",
      "metadata": {
        "id": "qCj6gYSV_FOO",
        "colab_type": "code",
        "colab": {}
      },
      "source": [
        "def readTrain():\n",
        "  train = pd.read_csv(\"all.csv\")\n",
        "  return train"
      ],
      "execution_count": 0,
      "outputs": []
    },
    {
      "cell_type": "code",
      "metadata": {
        "id": "90y_YlHDFB6D",
        "colab_type": "code",
        "colab": {}
      },
      "source": [
        "#read data\n",
        "train = readTrain()"
      ],
      "execution_count": 0,
      "outputs": []
    },
    {
      "cell_type": "markdown",
      "metadata": {
        "id": "kF5aUznXRMgz",
        "colab_type": "text"
      },
      "source": [
        "## give data column\n",
        "#### time : 2016~2019\n",
        "#### WS :windspeed\n",
        "#### WD: winddirect\n",
        "#### temp: tempture\n",
        "#### DTR : value(we have to validation this)"
      ]
    },
    {
      "cell_type": "code",
      "metadata": {
        "id": "v6MCyIWZFJp0",
        "colab_type": "code",
        "colab": {}
      },
      "source": [
        "trainnp = train.values\n",
        "train1 = pd.DataFrame(trainnp)\n",
        "train1.columns = ['time','WS','WD','temp','DTR']"
      ],
      "execution_count": 0,
      "outputs": []
    },
    {
      "cell_type": "code",
      "metadata": {
        "id": "hpYJtQcKQc5s",
        "colab_type": "code",
        "outputId": "1106a875-5f13-4381-f743-38d27828fd2e",
        "colab": {
          "base_uri": "https://localhost:8080/",
          "height": 203
        }
      },
      "source": [
        "train1[0:5]"
      ],
      "execution_count": 86,
      "outputs": [
        {
          "output_type": "execute_result",
          "data": {
            "text/html": [
              "<div>\n",
              "<style scoped>\n",
              "    .dataframe tbody tr th:only-of-type {\n",
              "        vertical-align: middle;\n",
              "    }\n",
              "\n",
              "    .dataframe tbody tr th {\n",
              "        vertical-align: top;\n",
              "    }\n",
              "\n",
              "    .dataframe thead th {\n",
              "        text-align: right;\n",
              "    }\n",
              "</style>\n",
              "<table border=\"1\" class=\"dataframe\">\n",
              "  <thead>\n",
              "    <tr style=\"text-align: right;\">\n",
              "      <th></th>\n",
              "      <th>time</th>\n",
              "      <th>WS</th>\n",
              "      <th>WD</th>\n",
              "      <th>temp</th>\n",
              "      <th>DTR</th>\n",
              "    </tr>\n",
              "  </thead>\n",
              "  <tbody>\n",
              "    <tr>\n",
              "      <th>0</th>\n",
              "      <td>2016/1/26 00:00</td>\n",
              "      <td>2.9</td>\n",
              "      <td>59.8</td>\n",
              "      <td>2.9</td>\n",
              "      <td>1706.64</td>\n",
              "    </tr>\n",
              "    <tr>\n",
              "      <th>1</th>\n",
              "      <td>2016/1/26 01:00</td>\n",
              "      <td>2.9</td>\n",
              "      <td>53.1</td>\n",
              "      <td>2.9</td>\n",
              "      <td>1708.52</td>\n",
              "    </tr>\n",
              "    <tr>\n",
              "      <th>2</th>\n",
              "      <td>2016/1/26 02:00</td>\n",
              "      <td>3.3</td>\n",
              "      <td>49.7</td>\n",
              "      <td>3.3</td>\n",
              "      <td>1772.53</td>\n",
              "    </tr>\n",
              "    <tr>\n",
              "      <th>3</th>\n",
              "      <td>2016/1/26 03:00</td>\n",
              "      <td>3.5</td>\n",
              "      <td>53.9</td>\n",
              "      <td>3.5</td>\n",
              "      <td>1807.66</td>\n",
              "    </tr>\n",
              "    <tr>\n",
              "      <th>4</th>\n",
              "      <td>2016/1/26 04:00</td>\n",
              "      <td>3.5</td>\n",
              "      <td>55</td>\n",
              "      <td>3.5</td>\n",
              "      <td>1813.4</td>\n",
              "    </tr>\n",
              "  </tbody>\n",
              "</table>\n",
              "</div>"
            ],
            "text/plain": [
              "              time   WS    WD temp      DTR\n",
              "0  2016/1/26 00:00  2.9  59.8  2.9  1706.64\n",
              "1  2016/1/26 01:00  2.9  53.1  2.9  1708.52\n",
              "2  2016/1/26 02:00  3.3  49.7  3.3  1772.53\n",
              "3  2016/1/26 03:00  3.5  53.9  3.5  1807.66\n",
              "4  2016/1/26 04:00  3.5    55  3.5   1813.4"
            ]
          },
          "metadata": {
            "tags": []
          },
          "execution_count": 86
        }
      ]
    },
    {
      "cell_type": "markdown",
      "metadata": {
        "id": "g08w9X1eSCd-",
        "colab_type": "text"
      },
      "source": [
        "## Completion of continuous time missing and data missing \n",
        "\n",
        "#### the origial data has a lot of NAN and -1,and continuous time missing, we have to fix it\n",
        "\n"
      ]
    },
    {
      "cell_type": "code",
      "metadata": {
        "id": "j8j4hDoMZCqt",
        "colab_type": "code",
        "colab": {}
      },
      "source": [
        "def makeTime(train):\n",
        "  train['time'] = pd.to_datetime(train['time'])\n",
        "  grouper = pd.Grouper(key='time', freq='60T')\n",
        "  res = train.groupby(grouper).first().reset_index()\n",
        "  res = res.fillna(method=\"ffill\") # propagate non-null values forward\n",
        "  return res\n"
      ],
      "execution_count": 0,
      "outputs": []
    },
    {
      "cell_type": "code",
      "metadata": {
        "id": "qBu6ruz5Fpp_",
        "colab_type": "code",
        "colab": {}
      },
      "source": [
        "trainTime = makeTime(train1)"
      ],
      "execution_count": 0,
      "outputs": []
    },
    {
      "cell_type": "code",
      "metadata": {
        "id": "PIp7JChSFzcR",
        "colab_type": "code",
        "colab": {}
      },
      "source": [
        "trainTime[14814:14822]"
      ],
      "execution_count": 0,
      "outputs": []
    },
    {
      "cell_type": "markdown",
      "metadata": {
        "id": "dDOqUVQJWzXY",
        "colab_type": "text"
      },
      "source": [
        "## add feature\n",
        "\n",
        "####The original field has only four features, wind speed, time, wind direction and temperature. For our prediction of DTR, there are very few features, so we have to divide the time into months, date,day of week and hour"
      ]
    },
    {
      "cell_type": "code",
      "metadata": {
        "id": "NwZR3cxJ-8GJ",
        "colab_type": "code",
        "colab": {}
      },
      "source": [
        "def augFeatures(train):\n",
        "  train[\"time\"] = pd.to_datetime(train[\"time\"])\n",
        "#   train[\"year\"] = train[\"time\"].dt.year\n",
        "  train[\"month\"] = train[\"time\"].dt.month\n",
        "  train[\"date\"] = train[\"time\"].dt.day\n",
        "  train[\"dayofweek\"] = train[\"time\"].dt.dayofweek\n",
        "  train[\"hour\"] = train[\"time\"].dt.hour\n",
        "  return train"
      ],
      "execution_count": 0,
      "outputs": []
    },
    {
      "cell_type": "code",
      "metadata": {
        "id": "4Ra1djHxHeyH",
        "colab_type": "code",
        "colab": {}
      },
      "source": [
        "train_Aug = augFeatures(trainTime)"
      ],
      "execution_count": 0,
      "outputs": []
    },
    {
      "cell_type": "code",
      "metadata": {
        "id": "JfNfamfIHvdl",
        "colab_type": "code",
        "colab": {
          "base_uri": "https://localhost:8080/",
          "height": 203
        },
        "outputId": "345172e0-ae40-444c-eeb1-0a81f84dd754"
      },
      "source": [
        "train_Aug[0:5]"
      ],
      "execution_count": 94,
      "outputs": [
        {
          "output_type": "execute_result",
          "data": {
            "text/html": [
              "<div>\n",
              "<style scoped>\n",
              "    .dataframe tbody tr th:only-of-type {\n",
              "        vertical-align: middle;\n",
              "    }\n",
              "\n",
              "    .dataframe tbody tr th {\n",
              "        vertical-align: top;\n",
              "    }\n",
              "\n",
              "    .dataframe thead th {\n",
              "        text-align: right;\n",
              "    }\n",
              "</style>\n",
              "<table border=\"1\" class=\"dataframe\">\n",
              "  <thead>\n",
              "    <tr style=\"text-align: right;\">\n",
              "      <th></th>\n",
              "      <th>time</th>\n",
              "      <th>WS</th>\n",
              "      <th>WD</th>\n",
              "      <th>temp</th>\n",
              "      <th>DTR</th>\n",
              "      <th>month</th>\n",
              "      <th>date</th>\n",
              "      <th>dayofweek</th>\n",
              "      <th>hour</th>\n",
              "    </tr>\n",
              "  </thead>\n",
              "  <tbody>\n",
              "    <tr>\n",
              "      <th>0</th>\n",
              "      <td>2016-01-26 00:00:00</td>\n",
              "      <td>2.9</td>\n",
              "      <td>59.8</td>\n",
              "      <td>2.9</td>\n",
              "      <td>1706.64</td>\n",
              "      <td>1</td>\n",
              "      <td>26</td>\n",
              "      <td>1</td>\n",
              "      <td>0</td>\n",
              "    </tr>\n",
              "    <tr>\n",
              "      <th>1</th>\n",
              "      <td>2016-01-26 01:00:00</td>\n",
              "      <td>2.9</td>\n",
              "      <td>53.1</td>\n",
              "      <td>2.9</td>\n",
              "      <td>1708.52</td>\n",
              "      <td>1</td>\n",
              "      <td>26</td>\n",
              "      <td>1</td>\n",
              "      <td>1</td>\n",
              "    </tr>\n",
              "    <tr>\n",
              "      <th>2</th>\n",
              "      <td>2016-01-26 02:00:00</td>\n",
              "      <td>3.3</td>\n",
              "      <td>49.7</td>\n",
              "      <td>3.3</td>\n",
              "      <td>1772.53</td>\n",
              "      <td>1</td>\n",
              "      <td>26</td>\n",
              "      <td>1</td>\n",
              "      <td>2</td>\n",
              "    </tr>\n",
              "    <tr>\n",
              "      <th>3</th>\n",
              "      <td>2016-01-26 03:00:00</td>\n",
              "      <td>3.5</td>\n",
              "      <td>53.9</td>\n",
              "      <td>3.5</td>\n",
              "      <td>1807.66</td>\n",
              "      <td>1</td>\n",
              "      <td>26</td>\n",
              "      <td>1</td>\n",
              "      <td>3</td>\n",
              "    </tr>\n",
              "    <tr>\n",
              "      <th>4</th>\n",
              "      <td>2016-01-26 04:00:00</td>\n",
              "      <td>3.5</td>\n",
              "      <td>55.0</td>\n",
              "      <td>3.5</td>\n",
              "      <td>1813.40</td>\n",
              "      <td>1</td>\n",
              "      <td>26</td>\n",
              "      <td>1</td>\n",
              "      <td>4</td>\n",
              "    </tr>\n",
              "  </tbody>\n",
              "</table>\n",
              "</div>"
            ],
            "text/plain": [
              "                 time   WS    WD  temp      DTR  month  date  dayofweek  hour\n",
              "0 2016-01-26 00:00:00  2.9  59.8   2.9  1706.64      1    26          1     0\n",
              "1 2016-01-26 01:00:00  2.9  53.1   2.9  1708.52      1    26          1     1\n",
              "2 2016-01-26 02:00:00  3.3  49.7   3.3  1772.53      1    26          1     2\n",
              "3 2016-01-26 03:00:00  3.5  53.9   3.5  1807.66      1    26          1     3\n",
              "4 2016-01-26 04:00:00  3.5  55.0   3.5  1813.40      1    26          1     4"
            ]
          },
          "metadata": {
            "tags": []
          },
          "execution_count": 94
        }
      ]
    },
    {
      "cell_type": "markdown",
      "metadata": {
        "id": "Fph1yzkrXIma",
        "colab_type": "text"
      },
      "source": [
        "## drop time column"
      ]
    },
    {
      "cell_type": "code",
      "metadata": {
        "id": "Gx0kk2nRW-6p",
        "colab_type": "code",
        "colab": {}
      },
      "source": [
        "def dropSomething(train):\n",
        "  train = train.drop([\"time\"], axis=1)\n",
        "\n",
        "  return train"
      ],
      "execution_count": 0,
      "outputs": []
    },
    {
      "cell_type": "code",
      "metadata": {
        "id": "CwBxprl7IEev",
        "colab_type": "code",
        "colab": {}
      },
      "source": [
        "train_drop = dropSomething(train_Aug)"
      ],
      "execution_count": 0,
      "outputs": []
    },
    {
      "cell_type": "markdown",
      "metadata": {
        "id": "QndsAd11ZwFi",
        "colab_type": "text"
      },
      "source": [
        "## replace -1 to NULL"
      ]
    },
    {
      "cell_type": "code",
      "metadata": {
        "id": "maK_IFnWIZq2",
        "colab_type": "code",
        "colab": {}
      },
      "source": [
        "trainnon = train_drop.replace({'WS':-1,'WD':-1,'temp':-1,'DTR':-1},np.nan)"
      ],
      "execution_count": 0,
      "outputs": []
    },
    {
      "cell_type": "markdown",
      "metadata": {
        "id": "UQ4WYI-9EeH-",
        "colab_type": "text"
      },
      "source": [
        "## feature scaling"
      ]
    },
    {
      "cell_type": "code",
      "metadata": {
        "id": "f31jljnPEXVb",
        "colab_type": "code",
        "colab": {}
      },
      "source": [
        "def normalize(train):\n",
        "  train_norm = train.apply(lambda x: (x - np.nanmean(x)) / (np.max(x) - np.min(x)))\n",
        "  return train_norm"
      ],
      "execution_count": 0,
      "outputs": []
    },
    {
      "cell_type": "code",
      "metadata": {
        "id": "iwqiA11_LXxu",
        "colab_type": "code",
        "colab": {}
      },
      "source": [
        "train_norm = normalize(trainnon)"
      ],
      "execution_count": 0,
      "outputs": []
    },
    {
      "cell_type": "markdown",
      "metadata": {
        "id": "VWiCH6r9YjDF",
        "colab_type": "text"
      },
      "source": [
        "## slice data(predicting 6 data by the first 24 data)"
      ]
    },
    {
      "cell_type": "code",
      "metadata": {
        "id": "gnQkLsuvMVcT",
        "colab_type": "code",
        "colab": {}
      },
      "source": [
        "#predicting ? data by the first ? data\n",
        "def buildTrain(train, pastDay, futureDay):\n",
        "  X_train, Y_train = [], []\n",
        "  #cut pastDay and futureDay can get range\n",
        "  for i in range(train.shape[0]-futureDay-pastDay):\n",
        "    a = train.iloc[i:i+pastDay]\n",
        "#     a = a.drop([\"DTR\"], axis=1)\n",
        "    b = train.iloc[i+pastDay:i+pastDay+futureDay][\"DTR\"]\n",
        "    #check data and drop NULL data\n",
        "    if a.isnull().values.any() or b.isnull().values.any():\n",
        "      continue\n",
        "    else:\n",
        "      X_train.append(np.array(a))\n",
        "      Y_train.append(np.array(b))\n",
        "  return np.array(X_train),np.array(Y_train)"
      ],
      "execution_count": 0,
      "outputs": []
    },
    {
      "cell_type": "code",
      "metadata": {
        "id": "YUgkwXJX_dwl",
        "colab_type": "code",
        "colab": {}
      },
      "source": [
        "X_all, Y_all = buildTrain(train_norm, 24, 6)"
      ],
      "execution_count": 0,
      "outputs": []
    },
    {
      "cell_type": "markdown",
      "metadata": {
        "id": "Y3L0gTQfc3zj",
        "colab_type": "text"
      },
      "source": [
        "### X_all : data feature\n",
        "### Y_all : data result"
      ]
    },
    {
      "cell_type": "code",
      "metadata": {
        "id": "rI5ii4S_OdZT",
        "colab_type": "code",
        "outputId": "b5a8da5f-6bc4-4326-bee3-3428144aae8b",
        "colab": {
          "base_uri": "https://localhost:8080/",
          "height": 51
        }
      },
      "source": [
        "print(X_all.shape)\n",
        "print(Y_all.shape)"
      ],
      "execution_count": 102,
      "outputs": [
        {
          "output_type": "stream",
          "text": [
            "(23715, 24, 8)\n",
            "(23715, 6)\n"
          ],
          "name": "stdout"
        }
      ]
    },
    {
      "cell_type": "markdown",
      "metadata": {
        "id": "XCuZgs8-fyks",
        "colab_type": "text"
      },
      "source": [
        "## put out some  data (no  training, no validation, just strange data)"
      ]
    },
    {
      "cell_type": "code",
      "metadata": {
        "id": "5zOhz7Fb8n-T",
        "colab_type": "code",
        "colab": {}
      },
      "source": [
        "X_train = X_all[:22240]\n",
        "Y_train = Y_all[:22240]\n",
        "X_validate = X_all[22241:]\n",
        "Y_validate = Y_all[22241:]"
      ],
      "execution_count": 0,
      "outputs": []
    },
    {
      "cell_type": "code",
      "metadata": {
        "id": "ZOqc3nwm-bZx",
        "colab_type": "code",
        "outputId": "082474d4-7ce6-4a31-9abe-f1a39759c4ac",
        "colab": {
          "base_uri": "https://localhost:8080/",
          "height": 34
        }
      },
      "source": [
        "print(X_train.shape)"
      ],
      "execution_count": 104,
      "outputs": [
        {
          "output_type": "stream",
          "text": [
            "(22240, 24, 8)\n"
          ],
          "name": "stdout"
        }
      ]
    },
    {
      "cell_type": "markdown",
      "metadata": {
        "id": "rDbFN3l8foax",
        "colab_type": "text"
      },
      "source": [
        "## random slice data to train data and validation data"
      ]
    },
    {
      "cell_type": "code",
      "metadata": {
        "id": "xN9AzTmGAcu9",
        "colab_type": "code",
        "outputId": "a76f6ad9-07c9-46ef-ffc8-a1f709892165",
        "colab": {
          "base_uri": "https://localhost:8080/",
          "height": 85
        }
      },
      "source": [
        "X_train, X_test, Y_train, Y_test = train_test_split(X_train, Y_train, test_size=0.15)\n",
        "\n",
        "print(X_train.shape)\n",
        "print(Y_train.shape)\n",
        "print(X_test.shape)\n",
        "print(Y_test.shape)"
      ],
      "execution_count": 105,
      "outputs": [
        {
          "output_type": "stream",
          "text": [
            "(18904, 24, 8)\n",
            "(18904, 6)\n",
            "(3336, 24, 8)\n",
            "(3336, 6)\n"
          ],
          "name": "stdout"
        }
      ]
    },
    {
      "cell_type": "markdown",
      "metadata": {
        "id": "qw5tF_uDV5fy",
        "colab_type": "text"
      },
      "source": [
        "## reshape (Only For Many to Many model)"
      ]
    },
    {
      "cell_type": "code",
      "metadata": {
        "id": "uoDkD4YCV4E5",
        "colab_type": "code",
        "colab": {}
      },
      "source": [
        "# from 2 dimmension to 3 dimension\n",
        "Y_train = Y_train[:,:,np.newaxis]\n",
        "Y_test = Y_test[:,:,np.newaxis]"
      ],
      "execution_count": 0,
      "outputs": []
    },
    {
      "cell_type": "code",
      "metadata": {
        "id": "a023kxlgzTuW",
        "colab_type": "code",
        "outputId": "ad82dc58-3fa3-4fc8-f857-234208f29076",
        "colab": {
          "base_uri": "https://localhost:8080/",
          "height": 34
        }
      },
      "source": [
        "Y_test.shape"
      ],
      "execution_count": 107,
      "outputs": [
        {
          "output_type": "execute_result",
          "data": {
            "text/plain": [
              "(3336, 6, 1)"
            ]
          },
          "metadata": {
            "tags": []
          },
          "execution_count": 107
        }
      ]
    },
    {
      "cell_type": "markdown",
      "metadata": {
        "id": "KHDA0e5qZE4m",
        "colab_type": "text"
      },
      "source": [
        "## build model"
      ]
    },
    {
      "cell_type": "code",
      "metadata": {
        "id": "qQLZKnzFWQdd",
        "colab_type": "code",
        "colab": {}
      },
      "source": [
        "#many to many(same sequence length)\n",
        "def buildManyToManyModel(shape):\n",
        "  model = Sequential()\n",
        "  model.add(LSTM(128, input_length=shape[1], input_dim=shape[2], return_sequences=True))\n",
        "  # output shape: (5, 1)\n",
        "  model.add(TimeDistributed(Dense(1)))\n",
        "  model.compile(loss=\"mae\", optimizer=\"adam\")\n",
        "  model.summary()\n",
        "  return model"
      ],
      "execution_count": 0,
      "outputs": []
    },
    {
      "cell_type": "code",
      "metadata": {
        "id": "x9FKhKEhwp60",
        "colab_type": "code",
        "colab": {}
      },
      "source": [
        "#many to many (different sequence length)\n",
        "def buildManyTodifManyModel(shape):\n",
        "  model = Sequential()  \n",
        "  model.add(LSTM(input_length=shape[1],input_dim=shape[2], output_dim=300, return_sequences=False))  \n",
        "  model.add(Dropout(0.2))\n",
        "  model.add(RepeatVector(6))\n",
        "  model.add(LSTM(output_dim=300, return_sequences=True))  \n",
        "  model.add(Dropout(0.2))\n",
        "  model.add(TimeDistributed(Dense(1)))\n",
        "#   model.add(Activation('linear'))   \n",
        "  model.compile(loss='mse', optimizer='adam') \n",
        "  model.summary()\n",
        "  return model"
      ],
      "execution_count": 0,
      "outputs": []
    },
    {
      "cell_type": "code",
      "metadata": {
        "id": "GOscMkP9UTJ6",
        "colab_type": "code",
        "colab": {}
      },
      "source": [
        "#many to one\n",
        "def buildManyToOneModel(shape):\n",
        "  model = Sequential()\n",
        "  model.add(LSTM(300, input_length=shape[1], input_dim=shape[2], return_sequences=True))\n",
        "  model.add(Dropout(0.2))\n",
        "#   model.add(LSTM(256, return_sequences=True))\n",
        "#   model.add(Dropout(0.2))\n",
        "  model.add(LSTM(300, return_sequences=False))\n",
        "  model.add(Dropout(0.2))\n",
        "  # output shape: (1, 1)\n",
        "#   model.add(Dense(512))\n",
        "#   model.add(Dropout(0.2))\n",
        "#   model.add(Dense(256))\n",
        "#   model.add(Dropout(0.2))\n",
        "#   model.add(Dense(128))\n",
        "#   model.add(Dropout(0.2))\n",
        "  model.add(Dense(1))\n",
        "  adam = keras.optimizers.Adam(lr = 0.0001)\n",
        "  model.compile(loss=\"mae\", optimizer=adam)\n",
        "  model.summary()\n",
        "  return model"
      ],
      "execution_count": 0,
      "outputs": []
    },
    {
      "cell_type": "code",
      "metadata": {
        "id": "gRHUuhXcBIt8",
        "colab_type": "code",
        "outputId": "67746aac-9e55-499c-da68-0231682bb4a2",
        "colab": {
          "base_uri": "https://localhost:8080/",
          "height": 1000
        }
      },
      "source": [
        "#many to many(same sequence length)\n",
        "# model = buildManyToManyModel(X_train.shape)\n",
        "#many to many(different sequence length)\n",
        "model = buildManyTodifManyModel(X_train.shape)\n",
        "# many to one\n",
        "# model = buildManyToOneModel(X_train.shape)\n",
        "callback = EarlyStopping(monitor=\"val_loss\",min_delta=0.0001, patience=15,verbose=1, mode=\"auto\")\n",
        "history = model.fit(X_train, Y_train, epochs=50, batch_size=128, validation_data=(X_test, Y_test),callbacks=[callback]) #callbacks=[callback]\n"
      ],
      "execution_count": 109,
      "outputs": [
        {
          "output_type": "stream",
          "text": [
            "/usr/local/lib/python3.6/dist-packages/ipykernel_launcher.py:3: UserWarning: The `input_dim` and `input_length` arguments in recurrent layers are deprecated. Use `input_shape` instead.\n",
            "  This is separate from the ipykernel package so we can avoid doing imports until\n",
            "/usr/local/lib/python3.6/dist-packages/ipykernel_launcher.py:3: UserWarning: Update your `LSTM` call to the Keras 2 API: `LSTM(return_sequences=False, input_shape=(24, 8), units=300)`\n",
            "  This is separate from the ipykernel package so we can avoid doing imports until\n",
            "/usr/local/lib/python3.6/dist-packages/ipykernel_launcher.py:6: UserWarning: Update your `LSTM` call to the Keras 2 API: `LSTM(return_sequences=True, units=300)`\n",
            "  \n"
          ],
          "name": "stderr"
        },
        {
          "output_type": "stream",
          "text": [
            "_________________________________________________________________\n",
            "Layer (type)                 Output Shape              Param #   \n",
            "=================================================================\n",
            "lstm_3 (LSTM)                (None, 300)               370800    \n",
            "_________________________________________________________________\n",
            "dropout_3 (Dropout)          (None, 300)               0         \n",
            "_________________________________________________________________\n",
            "repeat_vector_2 (RepeatVecto (None, 6, 300)            0         \n",
            "_________________________________________________________________\n",
            "lstm_4 (LSTM)                (None, 6, 300)            721200    \n",
            "_________________________________________________________________\n",
            "dropout_4 (Dropout)          (None, 6, 300)            0         \n",
            "_________________________________________________________________\n",
            "time_distributed_2 (TimeDist (None, 6, 1)              301       \n",
            "=================================================================\n",
            "Total params: 1,092,301\n",
            "Trainable params: 1,092,301\n",
            "Non-trainable params: 0\n",
            "_________________________________________________________________\n",
            "Train on 18904 samples, validate on 3336 samples\n",
            "Epoch 1/50\n",
            "18904/18904 [==============================] - 9s 454us/step - loss: 0.0094 - val_loss: 0.0085\n",
            "Epoch 2/50\n",
            "18904/18904 [==============================] - 7s 365us/step - loss: 0.0082 - val_loss: 0.0080\n",
            "Epoch 3/50\n",
            "18904/18904 [==============================] - 7s 364us/step - loss: 0.0080 - val_loss: 0.0079\n",
            "Epoch 4/50\n",
            "18904/18904 [==============================] - 7s 362us/step - loss: 0.0078 - val_loss: 0.0078\n",
            "Epoch 5/50\n",
            "18904/18904 [==============================] - 7s 375us/step - loss: 0.0077 - val_loss: 0.0077\n",
            "Epoch 6/50\n",
            "18904/18904 [==============================] - 7s 368us/step - loss: 0.0077 - val_loss: 0.0077\n",
            "Epoch 7/50\n",
            "18904/18904 [==============================] - 7s 357us/step - loss: 0.0076 - val_loss: 0.0075\n",
            "Epoch 8/50\n",
            "18904/18904 [==============================] - 7s 360us/step - loss: 0.0076 - val_loss: 0.0076\n",
            "Epoch 9/50\n",
            "18904/18904 [==============================] - 7s 357us/step - loss: 0.0075 - val_loss: 0.0074\n",
            "Epoch 10/50\n",
            "18904/18904 [==============================] - 7s 358us/step - loss: 0.0075 - val_loss: 0.0075\n",
            "Epoch 11/50\n",
            "18904/18904 [==============================] - 7s 362us/step - loss: 0.0074 - val_loss: 0.0075\n",
            "Epoch 12/50\n",
            "18904/18904 [==============================] - 7s 361us/step - loss: 0.0074 - val_loss: 0.0074\n",
            "Epoch 13/50\n",
            "18904/18904 [==============================] - 7s 357us/step - loss: 0.0074 - val_loss: 0.0074\n",
            "Epoch 14/50\n",
            "18904/18904 [==============================] - 7s 358us/step - loss: 0.0073 - val_loss: 0.0074\n",
            "Epoch 15/50\n",
            "18904/18904 [==============================] - 7s 358us/step - loss: 0.0073 - val_loss: 0.0073\n",
            "Epoch 16/50\n",
            "18904/18904 [==============================] - 7s 360us/step - loss: 0.0072 - val_loss: 0.0073\n",
            "Epoch 17/50\n",
            "18904/18904 [==============================] - 7s 366us/step - loss: 0.0071 - val_loss: 0.0072\n",
            "Epoch 18/50\n",
            "18904/18904 [==============================] - 7s 359us/step - loss: 0.0071 - val_loss: 0.0073\n",
            "Epoch 19/50\n",
            "18904/18904 [==============================] - 7s 358us/step - loss: 0.0070 - val_loss: 0.0071\n",
            "Epoch 20/50\n",
            "18904/18904 [==============================] - 7s 357us/step - loss: 0.0070 - val_loss: 0.0072\n",
            "Epoch 21/50\n",
            "18904/18904 [==============================] - 7s 357us/step - loss: 0.0069 - val_loss: 0.0071\n",
            "Epoch 22/50\n",
            "18904/18904 [==============================] - 7s 356us/step - loss: 0.0068 - val_loss: 0.0071\n",
            "Epoch 23/50\n",
            "18904/18904 [==============================] - 7s 355us/step - loss: 0.0068 - val_loss: 0.0069\n",
            "Epoch 24/50\n",
            "18904/18904 [==============================] - 7s 353us/step - loss: 0.0067 - val_loss: 0.0067\n",
            "Epoch 25/50\n",
            "18904/18904 [==============================] - 7s 355us/step - loss: 0.0066 - val_loss: 0.0069\n",
            "Epoch 26/50\n",
            "18904/18904 [==============================] - 7s 357us/step - loss: 0.0065 - val_loss: 0.0065\n",
            "Epoch 27/50\n",
            "18904/18904 [==============================] - 7s 354us/step - loss: 0.0063 - val_loss: 0.0065\n",
            "Epoch 28/50\n",
            "18904/18904 [==============================] - 7s 361us/step - loss: 0.0063 - val_loss: 0.0064\n",
            "Epoch 29/50\n",
            "18904/18904 [==============================] - 7s 361us/step - loss: 0.0061 - val_loss: 0.0062\n",
            "Epoch 30/50\n",
            "18904/18904 [==============================] - 7s 353us/step - loss: 0.0060 - val_loss: 0.0061\n",
            "Epoch 31/50\n",
            "18904/18904 [==============================] - 7s 353us/step - loss: 0.0059 - val_loss: 0.0061\n",
            "Epoch 32/50\n",
            "18904/18904 [==============================] - 7s 352us/step - loss: 0.0057 - val_loss: 0.0060\n",
            "Epoch 33/50\n",
            "18904/18904 [==============================] - 7s 352us/step - loss: 0.0055 - val_loss: 0.0057\n",
            "Epoch 34/50\n",
            "18904/18904 [==============================] - 7s 353us/step - loss: 0.0054 - val_loss: 0.0056\n",
            "Epoch 35/50\n",
            "18904/18904 [==============================] - 7s 351us/step - loss: 0.0052 - val_loss: 0.0054\n",
            "Epoch 36/50\n",
            "18904/18904 [==============================] - 7s 354us/step - loss: 0.0050 - val_loss: 0.0053\n",
            "Epoch 37/50\n",
            "18904/18904 [==============================] - 7s 352us/step - loss: 0.0048 - val_loss: 0.0051\n",
            "Epoch 38/50\n",
            "18904/18904 [==============================] - 7s 351us/step - loss: 0.0046 - val_loss: 0.0048\n",
            "Epoch 39/50\n",
            "18904/18904 [==============================] - 7s 353us/step - loss: 0.0045 - val_loss: 0.0047\n",
            "Epoch 40/50\n",
            "18904/18904 [==============================] - 7s 351us/step - loss: 0.0043 - val_loss: 0.0045\n",
            "Epoch 41/50\n",
            "18904/18904 [==============================] - 7s 357us/step - loss: 0.0041 - val_loss: 0.0043\n",
            "Epoch 42/50\n",
            "18904/18904 [==============================] - 7s 352us/step - loss: 0.0039 - val_loss: 0.0041\n",
            "Epoch 43/50\n",
            "18904/18904 [==============================] - 7s 351us/step - loss: 0.0038 - val_loss: 0.0040\n",
            "Epoch 44/50\n",
            "18904/18904 [==============================] - 7s 350us/step - loss: 0.0036 - val_loss: 0.0038\n",
            "Epoch 45/50\n",
            "18904/18904 [==============================] - 7s 354us/step - loss: 0.0035 - val_loss: 0.0037\n",
            "Epoch 46/50\n",
            "18904/18904 [==============================] - 7s 350us/step - loss: 0.0034 - val_loss: 0.0036\n",
            "Epoch 47/50\n",
            "18904/18904 [==============================] - 7s 347us/step - loss: 0.0033 - val_loss: 0.0036\n",
            "Epoch 48/50\n",
            "18904/18904 [==============================] - 7s 350us/step - loss: 0.0032 - val_loss: 0.0035\n",
            "Epoch 49/50\n",
            "18904/18904 [==============================] - 7s 347us/step - loss: 0.0031 - val_loss: 0.0033\n",
            "Epoch 50/50\n",
            "18904/18904 [==============================] - 7s 352us/step - loss: 0.0029 - val_loss: 0.0033\n"
          ],
          "name": "stdout"
        }
      ]
    },
    {
      "cell_type": "markdown",
      "metadata": {
        "id": "4XJLc9e0ernN",
        "colab_type": "text"
      },
      "source": [
        "## Show training history"
      ]
    },
    {
      "cell_type": "code",
      "metadata": {
        "id": "zjeVFejluFlU",
        "colab_type": "code",
        "outputId": "729c3037-3c86-4e9d-b395-aa78c9325d91",
        "colab": {
          "base_uri": "https://localhost:8080/",
          "height": 295
        }
      },
      "source": [
        "import matplotlib.pyplot as plt\n",
        "\n",
        "def show_train_history(train_history,train,validation):\n",
        "    plt.plot(train_history.history[train])\n",
        "    plt.plot(train_history.history[validation])\n",
        "    plt.title('Train History')\n",
        "    plt.ylabel(train)\n",
        "    plt.xlabel('Epoch')\n",
        "    plt.legend(['train', 'validation'], loc='upper left')\n",
        "    plt.ylim([0,0.01])\n",
        "    plt.show()\n",
        "\n",
        "show_train_history(history,'loss','val_loss')"
      ],
      "execution_count": 113,
      "outputs": [
        {
          "output_type": "display_data",
          "data": {
            "image/png": "[encoded data removed]",
            "text/plain": [
              "<Figure size 432x288 with 1 Axes>"
            ]
          },
          "metadata": {
            "tags": []
          }
        }
      ]
    },
    {
      "cell_type": "markdown",
      "metadata": {
        "id": "hTMP4fwmDN4q",
        "colab_type": "text"
      },
      "source": [
        "## Load strange data and view forecast results"
      ]
    },
    {
      "cell_type": "code",
      "metadata": {
        "id": "DQFUw8_yFuyS",
        "colab_type": "code",
        "outputId": "7fb92960-fe98-4add-ec13-ce5fb6de2d79",
        "colab": {
          "base_uri": "https://localhost:8080/",
          "height": 135
        }
      },
      "source": [
        "# results = np.argmax(model.predict(X_test)) #forcast\n",
        "results = (model.predict(X_validate)) #forcast\n",
        "print(results[0])\n",
        "print(Y_validate[0])"
      ],
      "execution_count": 78,
      "outputs": [
        {
          "output_type": "stream",
          "text": [
            "[[-0.13010931]\n",
            " [-0.11443662]\n",
            " [-0.11148709]\n",
            " [-0.10864223]\n",
            " [-0.10690326]\n",
            " [-0.10580356]]\n",
            "[-0.05752437 -0.08640642 -0.12817568 -0.18964312 -0.18367111 -0.31524379]\n"
          ],
          "name": "stdout"
        }
      ]
    },
    {
      "cell_type": "markdown",
      "metadata": {
        "id": "v0XArsdYgskk",
        "colab_type": "text"
      },
      "source": [
        "## Calculate the maximum and average error values (for many to on)"
      ]
    },
    {
      "cell_type": "code",
      "metadata": {
        "id": "ayNDzX6_C75W",
        "colab_type": "code",
        "colab": {}
      },
      "source": [
        "d = 0\n",
        "list5 = []\n",
        "list6 = []\n",
        "list7 = []\n",
        "\n",
        "for i in range(Y_validate.shape[0]):\n",
        "  #a:test data result  b:predict data\n",
        "  a = Y_validate[i]*(np.max(trainnon['DTR']) - np.min(trainnon['DTR'])) + np.nanmean(trainnon['DTR'])\n",
        "  b = results[i]*(np.max(trainnon['DTR']) - np.min(trainnon['DTR'])) + np.nanmean(trainnon['DTR'])\n",
        "  list6.append(a)\n",
        "  list7.append(b)\n",
        "  e = abs(b-a)\n",
        "  g = 0\n",
        "  list5.append(e)\n",
        "  global d\n",
        "  d += e\n",
        "print('validation')\n",
        "print('Mean error value:{}'.format(d[0]/len(list6)))  \n",
        "print('Maximum error value:{}'.format(max(list5)[0]))"
      ],
      "execution_count": 0,
      "outputs": []
    },
    {
      "cell_type": "markdown",
      "metadata": {
        "id": "7NgmpFFUhZUe",
        "colab_type": "text"
      },
      "source": [
        "## Calculate the maximum and average error values (for many to many)"
      ]
    },
    {
      "cell_type": "code",
      "metadata": {
        "id": "RN-WM7kFYrBP",
        "colab_type": "code",
        "outputId": "76e1f241-7c10-40d1-c32f-f123fc853460",
        "colab": {
          "base_uri": "https://localhost:8080/",
          "height": 68
        }
      },
      "source": [
        "d = 0\n",
        "list5 = []\n",
        "list6 = []\n",
        "list7 = []\n",
        "list8 = []\n",
        "list9 = []\n",
        "\n",
        "for i in range(Y_validate.shape[0]):\n",
        "\n",
        "  a = Y_validate[i]*(np.max(trainnon['DTR']) - np.min(trainnon['DTR'])) + np.mean(trainnon['DTR'])\n",
        "  b = results[i]*(np.max(trainnon['DTR']) - np.min(trainnon['DTR'])) + np.mean(trainnon['DTR'])\n",
        "  list8.append(np.mean(a))\n",
        "  list9.append(np.mean(b))\n",
        "  for h in range(6):\n",
        "    list6.append(a[h])\n",
        "    list7.append(b[h][0])\n",
        "    list5.append(abs(a[h]-b[h][0]))\n",
        "\n",
        "print('validation')\n",
        "print('Mean error value:{}'.format(np.sum(list5)/len(list5)))\n",
        "print('Maximum error value:{}'.format(max(list5)))"
      ],
      "execution_count": 114,
      "outputs": [
        {
          "output_type": "stream",
          "text": [
            "validation\n",
            "Mean error value:224.62275263282098\n",
            "Maximum error value:1062.7244726562403\n"
          ],
          "name": "stdout"
        }
      ]
    },
    {
      "cell_type": "markdown",
      "metadata": {
        "id": "G3XAQI7cDrnq",
        "colab_type": "text"
      },
      "source": [
        "## Draw a comparison of predicted and results(for many to on)"
      ]
    },
    {
      "cell_type": "code",
      "metadata": {
        "id": "l6ogvIzSiukG",
        "colab_type": "code",
        "colab": {}
      },
      "source": [
        "#FOR　many 2 one\n",
        "plt.plot(listy6[200:300])\n",
        "plt.plot(list7[200:300])\n",
        "plt.title('validation')\n",
        "plt.ylabel('DTR')\n",
        "plt.xlabel('data')\n",
        "plt.legend(['result', 'predict'], loc='upper left')\n",
        "plt.ylim([500,2500])\n",
        "plt.show()"
      ],
      "execution_count": 0,
      "outputs": []
    },
    {
      "cell_type": "markdown",
      "metadata": {
        "id": "oVTZOP7bjQ0S",
        "colab_type": "text"
      },
      "source": [
        "## Draw a comparison of predicted and results(for many to many)"
      ]
    },
    {
      "cell_type": "code",
      "metadata": {
        "id": "UwmHu6vPBPPa",
        "colab_type": "code",
        "outputId": "3801b740-c2d7-407f-d1e2-5adff8b721e1",
        "colab": {
          "base_uri": "https://localhost:8080/",
          "height": 295
        }
      },
      "source": [
        "# For many 2 many\n",
        "plt.plot(list8[400:500])\n",
        "plt.plot(list9[400:500])\n",
        "plt.title('validation')\n",
        "plt.ylabel('DTR')\n",
        "plt.xlabel('data')\n",
        "plt.legend(['result', 'predict'], loc='upper left')\n",
        "plt.ylim([500,2500])\n",
        "plt.show()"
      ],
      "execution_count": 115,
      "outputs": [
        {
          "output_type": "display_data",
          "data": {
            "image/png": "[encoded data removed]",
            "text/plain": [
              "<Figure size 432x288 with 1 Axes>"
            ]
          },
          "metadata": {
            "tags": []
          }
        }
      ]
    },
    {
      "cell_type": "markdown",
      "metadata": {
        "id": "_r508jE5MR03",
        "colab_type": "text"
      },
      "source": [
        "## save model "
      ]
    },
    {
      "cell_type": "code",
      "metadata": {
        "id": "tEq9ksJAMO7N",
        "colab_type": "code",
        "colab": {}
      },
      "source": [
        "model.save('Keras_DTR_LSTM.h5')"
      ],
      "execution_count": 0,
      "outputs": []
    },
    {
      "cell_type": "markdown",
      "metadata": {
        "id": "XpxnYRBUMTHr",
        "colab_type": "text"
      },
      "source": [
        "## download model"
      ]
    },
    {
      "cell_type": "code",
      "metadata": {
        "id": "FLZEJFnoL3U5",
        "colab_type": "code",
        "colab": {}
      },
      "source": [
        "from google.colab import files\n",
        "\n",
        "files.download('Keras_DTR_LSTM.h5')"
      ],
      "execution_count": 0,
      "outputs": []
    }
  ]
}
